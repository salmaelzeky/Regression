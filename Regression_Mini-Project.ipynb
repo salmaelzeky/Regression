{
  "cells": [
    {
      "cell_type": "markdown",
      "metadata": {
        "id": "view-in-github",
        "colab_type": "text"
      },
      "source": [
        "<a href=\"https://colab.research.google.com/github/GUC-DM/w21-berlin-mp-1-salma-elzeky-t1-rawan-ashraf-t1/blob/main/Regression_Mini-Project.ipynb\" target=\"_parent\"><img src=\"https://colab.research.google.com/assets/colab-badge.svg\" alt=\"Open In Colab\"/></a>"
      ]
    },
    {
      "cell_type": "markdown",
      "metadata": {
        "id": "CpVtsRNiJYaG"
      },
      "source": [
        "# Linear Regression - Mini-Project 1\n"
      ]
    },
    {
      "cell_type": "markdown",
      "metadata": {
        "id": "EP_f9obQJYaP"
      },
      "source": [
        "***Edit this cell with your name(s), tutorial number(s) and ID(s)***\n",
        "\n",
        "---\n",
        "\n",
        "Name: Salma Elzeky\n",
        "\n",
        "ID: 43-5917\n",
        "\n",
        "Tutorial: T1\n",
        "\n",
        "---\n",
        "\n",
        "Name: Rawan Ashraf\n",
        "\n",
        "ID: 43-2692\n",
        "\n",
        "Tutorial: T1\n",
        "\n",
        "---\n"
      ]
    },
    {
      "cell_type": "markdown",
      "metadata": {
        "id": "HK_L9rs1JYaX"
      },
      "source": [
        "## Dataset Description\n",
        "\n",
        "The dataset contains historical car auction sales prices, scraped from the outside internet sources and collected in 2015.\n",
        "\n",
        "Each row represents a sale at a used car auction. Each column is described below.\n",
        "\n",
        "| Column       | Description                                                                                          |\n",
        "| ------------ | ---------------------------------------------------------------------------------------------------- |\n",
        "| year         | Car's year of production                                                                             |\n",
        "| make         | Car make/brand                                                                                       |\n",
        "| model        | Car model                                                                                            |\n",
        "| trim         | Car's trim or grade, which specifies a car model's level of performance, features, options or extras |\n",
        "| body         | Car body type (e.g. Sedan, SUV, Coupe, etc.)                                                         |\n",
        "| transmission | Car transmission type. The mechanism that moves the power from the engine to the wheels.             |\n",
        "| vin          | Vehicle Identification Number, a unique code to identify individual motor vehicles.                  |\n",
        "| state        | The state in which the car was auctioned.                                                            |\n",
        "| condition    | The condition of the cars being at the time of auction, 5 being the best score and 1 being the worst.|\n",
        "| odometer     | The distance traveled by a vehicle since being manufactured, in miles                                |\n",
        "| color        | Exterior color of the car                                                                            |\n",
        "| interior     | Interior color of the car                                                                            |\n",
        "| seller       | The seller of the car or car dealer                                                                  |\n",
        "| mmr          | Manheim\\* Market Report, the market estimated price of the cars. An indicator of wholesale prices.   |\n",
        "| sellingprice | The price a car was sold at in auction.                                                              |\n",
        "| saledate     | The date on which the car has been sold.                                                             |\n",
        "\n",
        "\\*Manheim is a company established in 1945 as a car auction company. It has grown to a very reputable company in the industry and its MMR estimate is a baseline tool for wholesale car price determination. They base their price calculations on over 10 million transaction over the past 13-month period.\n"
      ]
    },
    {
      "cell_type": "markdown",
      "metadata": {
        "id": "E209W9dDJYaf"
      },
      "source": [
        "## Importing Libraries \\& Dataset\n"
      ]
    },
    {
      "cell_type": "code",
      "execution_count": 2,
      "metadata": {
        "colab": {
          "base_uri": "https://localhost:8080/",
          "height": 380
        },
        "id": "w4b9PE5iJYah",
        "outputId": "c478f70b-ffe8-41e9-dbbb-250bdd4b5e5b"
      },
      "outputs": [
        {
          "output_type": "execute_result",
          "data": {
            "text/html": [
              "<div>\n",
              "<style scoped>\n",
              "    .dataframe tbody tr th:only-of-type {\n",
              "        vertical-align: middle;\n",
              "    }\n",
              "\n",
              "    .dataframe tbody tr th {\n",
              "        vertical-align: top;\n",
              "    }\n",
              "\n",
              "    .dataframe thead th {\n",
              "        text-align: right;\n",
              "    }\n",
              "</style>\n",
              "<table border=\"1\" class=\"dataframe\">\n",
              "  <thead>\n",
              "    <tr style=\"text-align: right;\">\n",
              "      <th></th>\n",
              "      <th>year</th>\n",
              "      <th>make</th>\n",
              "      <th>model</th>\n",
              "      <th>trim</th>\n",
              "      <th>body</th>\n",
              "      <th>transmission</th>\n",
              "      <th>vin</th>\n",
              "      <th>state</th>\n",
              "      <th>condition</th>\n",
              "      <th>odometer</th>\n",
              "      <th>color</th>\n",
              "      <th>interior</th>\n",
              "      <th>seller</th>\n",
              "      <th>mmr</th>\n",
              "      <th>sellingprice</th>\n",
              "      <th>saledate</th>\n",
              "    </tr>\n",
              "  </thead>\n",
              "  <tbody>\n",
              "    <tr>\n",
              "      <th>0</th>\n",
              "      <td>2013</td>\n",
              "      <td>Hyundai</td>\n",
              "      <td>Sonata</td>\n",
              "      <td>GLS</td>\n",
              "      <td>sedan</td>\n",
              "      <td>automatic</td>\n",
              "      <td>5npeb4acxdh702805</td>\n",
              "      <td>ma</td>\n",
              "      <td>3.9</td>\n",
              "      <td>50404.0mi</td>\n",
              "      <td>black</td>\n",
              "      <td>gray</td>\n",
              "      <td>the hertz corporation</td>\n",
              "      <td>$11000</td>\n",
              "      <td>$10900</td>\n",
              "      <td>Tue Jun 02 2015 02:30:00 GMT-0700 (PDT)</td>\n",
              "    </tr>\n",
              "    <tr>\n",
              "      <th>1</th>\n",
              "      <td>2014</td>\n",
              "      <td>Toyota</td>\n",
              "      <td>4Runner</td>\n",
              "      <td>SR5</td>\n",
              "      <td>SUV</td>\n",
              "      <td>automatic</td>\n",
              "      <td>jtezu5jr2e5064567</td>\n",
              "      <td>fl</td>\n",
              "      <td>4.9</td>\n",
              "      <td>17846.0mi</td>\n",
              "      <td>gray</td>\n",
              "      <td>—</td>\n",
              "      <td>award auto sales and leasing inc</td>\n",
              "      <td>$28700</td>\n",
              "      <td>$29900</td>\n",
              "      <td>Wed Feb 18 2015 07:15:00 GMT-0800 (PST)</td>\n",
              "    </tr>\n",
              "    <tr>\n",
              "      <th>2</th>\n",
              "      <td>2012</td>\n",
              "      <td>Lexus</td>\n",
              "      <td>IS 250</td>\n",
              "      <td>Base</td>\n",
              "      <td>Sedan</td>\n",
              "      <td>automatic</td>\n",
              "      <td>jthbf5c24c5168599</td>\n",
              "      <td>fl</td>\n",
              "      <td>4.1</td>\n",
              "      <td>21122.0mi</td>\n",
              "      <td>silver</td>\n",
              "      <td>black</td>\n",
              "      <td>lexus financial services</td>\n",
              "      <td>$22200</td>\n",
              "      <td>$24200</td>\n",
              "      <td>Tue Jan 20 2015 01:30:00 GMT-0800 (PST)</td>\n",
              "    </tr>\n",
              "    <tr>\n",
              "      <th>3</th>\n",
              "      <td>2002</td>\n",
              "      <td>BMW</td>\n",
              "      <td>X5</td>\n",
              "      <td>4.4i</td>\n",
              "      <td>SUV</td>\n",
              "      <td>automatic</td>\n",
              "      <td>5uxfb33562lh33864</td>\n",
              "      <td>fl</td>\n",
              "      <td>1.9</td>\n",
              "      <td>145303.0mi</td>\n",
              "      <td>black</td>\n",
              "      <td>black</td>\n",
              "      <td>peddle llc</td>\n",
              "      <td>$3675</td>\n",
              "      <td>$3200</td>\n",
              "      <td>Wed Mar 04 2015 07:10:00 GMT-0800 (PST)</td>\n",
              "    </tr>\n",
              "    <tr>\n",
              "      <th>4</th>\n",
              "      <td>2014</td>\n",
              "      <td>Ford</td>\n",
              "      <td>E-Series Van</td>\n",
              "      <td>E-250</td>\n",
              "      <td>E-Series Van</td>\n",
              "      <td>automatic</td>\n",
              "      <td>1ftne2ew0eda31832</td>\n",
              "      <td>wa</td>\n",
              "      <td>4.9</td>\n",
              "      <td>6714.0mi</td>\n",
              "      <td>white</td>\n",
              "      <td>gray</td>\n",
              "      <td>u-haul</td>\n",
              "      <td>$22500</td>\n",
              "      <td>$22100</td>\n",
              "      <td>Wed Feb 18 2015 06:45:00 GMT-0800 (PST)</td>\n",
              "    </tr>\n",
              "  </tbody>\n",
              "</table>\n",
              "</div>"
            ],
            "text/plain": [
              "   year     make  ... sellingprice                                 saledate\n",
              "0  2013  Hyundai  ...       $10900  Tue Jun 02 2015 02:30:00 GMT-0700 (PDT)\n",
              "1  2014   Toyota  ...       $29900  Wed Feb 18 2015 07:15:00 GMT-0800 (PST)\n",
              "2  2012    Lexus  ...       $24200  Tue Jan 20 2015 01:30:00 GMT-0800 (PST)\n",
              "3  2002      BMW  ...        $3200  Wed Mar 04 2015 07:10:00 GMT-0800 (PST)\n",
              "4  2014     Ford  ...       $22100  Wed Feb 18 2015 06:45:00 GMT-0800 (PST)\n",
              "\n",
              "[5 rows x 16 columns]"
            ]
          },
          "metadata": {},
          "execution_count": 2
        }
      ],
      "source": [
        "import pandas as pd\n",
        "import numpy as np\n",
        "import matplotlib.pyplot as plt\n",
        "import seaborn as sns\n",
        "\n",
        "%matplotlib inline\n",
        "plt.style.use(\"seaborn\")\n",
        "\n",
        "try:\n",
        "    df = pd.read_csv('car_prices.csv')\n",
        "except:\n",
        "    df = pd.read_csv('https://raw.githubusercontent.com/GUC-DM/W2021/main/data/car_prices.csv')\n",
        "\n",
        "df.head()"
      ]
    },
    {
      "cell_type": "markdown",
      "metadata": {
        "id": "6m3lOiqOJYam"
      },
      "source": [
        "## Data Inspection\n",
        "\n",
        "Perform data inspection tasks here (recommended for data understanding)."
      ]
    },
    {
      "cell_type": "code",
      "source": [
        "df.dtypes"
      ],
      "metadata": {
        "colab": {
          "base_uri": "https://localhost:8080/"
        },
        "id": "1puGYGLbK3h9",
        "outputId": "2d7b52b6-e8f0-42af-900c-ae486a6c3605"
      },
      "execution_count": 3,
      "outputs": [
        {
          "output_type": "execute_result",
          "data": {
            "text/plain": [
              "year              int64\n",
              "make             object\n",
              "model            object\n",
              "trim             object\n",
              "body             object\n",
              "transmission     object\n",
              "vin              object\n",
              "state            object\n",
              "condition       float64\n",
              "odometer         object\n",
              "color            object\n",
              "interior         object\n",
              "seller           object\n",
              "mmr              object\n",
              "sellingprice     object\n",
              "saledate         object\n",
              "dtype: object"
            ]
          },
          "metadata": {},
          "execution_count": 3
        }
      ]
    },
    {
      "cell_type": "code",
      "source": [
        "df.describe()"
      ],
      "metadata": {
        "colab": {
          "base_uri": "https://localhost:8080/",
          "height": 300
        },
        "id": "2iGca-02LBRd",
        "outputId": "be1d001c-41b5-4b56-cc68-40dba6aea57d"
      },
      "execution_count": 4,
      "outputs": [
        {
          "output_type": "execute_result",
          "data": {
            "text/html": [
              "<div>\n",
              "<style scoped>\n",
              "    .dataframe tbody tr th:only-of-type {\n",
              "        vertical-align: middle;\n",
              "    }\n",
              "\n",
              "    .dataframe tbody tr th {\n",
              "        vertical-align: top;\n",
              "    }\n",
              "\n",
              "    .dataframe thead th {\n",
              "        text-align: right;\n",
              "    }\n",
              "</style>\n",
              "<table border=\"1\" class=\"dataframe\">\n",
              "  <thead>\n",
              "    <tr style=\"text-align: right;\">\n",
              "      <th></th>\n",
              "      <th>year</th>\n",
              "      <th>condition</th>\n",
              "    </tr>\n",
              "  </thead>\n",
              "  <tbody>\n",
              "    <tr>\n",
              "      <th>count</th>\n",
              "      <td>46578.000000</td>\n",
              "      <td>46578.000000</td>\n",
              "    </tr>\n",
              "    <tr>\n",
              "      <th>mean</th>\n",
              "      <td>2010.203401</td>\n",
              "      <td>3.424265</td>\n",
              "    </tr>\n",
              "    <tr>\n",
              "      <th>std</th>\n",
              "      <td>3.831316</td>\n",
              "      <td>0.944009</td>\n",
              "    </tr>\n",
              "    <tr>\n",
              "      <th>min</th>\n",
              "      <td>1990.000000</td>\n",
              "      <td>1.000000</td>\n",
              "    </tr>\n",
              "    <tr>\n",
              "      <th>25%</th>\n",
              "      <td>2008.000000</td>\n",
              "      <td>2.700000</td>\n",
              "    </tr>\n",
              "    <tr>\n",
              "      <th>50%</th>\n",
              "      <td>2012.000000</td>\n",
              "      <td>3.600000</td>\n",
              "    </tr>\n",
              "    <tr>\n",
              "      <th>75%</th>\n",
              "      <td>2013.000000</td>\n",
              "      <td>4.200000</td>\n",
              "    </tr>\n",
              "    <tr>\n",
              "      <th>max</th>\n",
              "      <td>2015.000000</td>\n",
              "      <td>5.000000</td>\n",
              "    </tr>\n",
              "  </tbody>\n",
              "</table>\n",
              "</div>"
            ],
            "text/plain": [
              "               year     condition\n",
              "count  46578.000000  46578.000000\n",
              "mean    2010.203401      3.424265\n",
              "std        3.831316      0.944009\n",
              "min     1990.000000      1.000000\n",
              "25%     2008.000000      2.700000\n",
              "50%     2012.000000      3.600000\n",
              "75%     2013.000000      4.200000\n",
              "max     2015.000000      5.000000"
            ]
          },
          "metadata": {},
          "execution_count": 4
        }
      ]
    },
    {
      "cell_type": "code",
      "source": [
        "df.describe(include='object')"
      ],
      "metadata": {
        "colab": {
          "base_uri": "https://localhost:8080/",
          "height": 192
        },
        "id": "nEkmYOq0L5W5",
        "outputId": "5701b34a-5633-4832-feec-1b21ce07d9be"
      },
      "execution_count": 5,
      "outputs": [
        {
          "output_type": "execute_result",
          "data": {
            "text/html": [
              "<div>\n",
              "<style scoped>\n",
              "    .dataframe tbody tr th:only-of-type {\n",
              "        vertical-align: middle;\n",
              "    }\n",
              "\n",
              "    .dataframe tbody tr th {\n",
              "        vertical-align: top;\n",
              "    }\n",
              "\n",
              "    .dataframe thead th {\n",
              "        text-align: right;\n",
              "    }\n",
              "</style>\n",
              "<table border=\"1\" class=\"dataframe\">\n",
              "  <thead>\n",
              "    <tr style=\"text-align: right;\">\n",
              "      <th></th>\n",
              "      <th>make</th>\n",
              "      <th>model</th>\n",
              "      <th>trim</th>\n",
              "      <th>body</th>\n",
              "      <th>transmission</th>\n",
              "      <th>vin</th>\n",
              "      <th>state</th>\n",
              "      <th>odometer</th>\n",
              "      <th>color</th>\n",
              "      <th>interior</th>\n",
              "      <th>seller</th>\n",
              "      <th>mmr</th>\n",
              "      <th>sellingprice</th>\n",
              "      <th>saledate</th>\n",
              "    </tr>\n",
              "  </thead>\n",
              "  <tbody>\n",
              "    <tr>\n",
              "      <th>count</th>\n",
              "      <td>46578</td>\n",
              "      <td>46578</td>\n",
              "      <td>46578</td>\n",
              "      <td>46578</td>\n",
              "      <td>46578</td>\n",
              "      <td>46578</td>\n",
              "      <td>46578</td>\n",
              "      <td>46578</td>\n",
              "      <td>46578</td>\n",
              "      <td>46578</td>\n",
              "      <td>46578</td>\n",
              "      <td>46578</td>\n",
              "      <td>46578</td>\n",
              "      <td>46578</td>\n",
              "    </tr>\n",
              "    <tr>\n",
              "      <th>unique</th>\n",
              "      <td>48</td>\n",
              "      <td>648</td>\n",
              "      <td>1097</td>\n",
              "      <td>71</td>\n",
              "      <td>2</td>\n",
              "      <td>46578</td>\n",
              "      <td>34</td>\n",
              "      <td>39460</td>\n",
              "      <td>20</td>\n",
              "      <td>17</td>\n",
              "      <td>4686</td>\n",
              "      <td>1021</td>\n",
              "      <td>953</td>\n",
              "      <td>2286</td>\n",
              "    </tr>\n",
              "    <tr>\n",
              "      <th>top</th>\n",
              "      <td>Ford</td>\n",
              "      <td>Altima</td>\n",
              "      <td>Base</td>\n",
              "      <td>Sedan</td>\n",
              "      <td>automatic</td>\n",
              "      <td>jtebu11f770076150</td>\n",
              "      <td>fl</td>\n",
              "      <td>1.0mi</td>\n",
              "      <td>black</td>\n",
              "      <td>black</td>\n",
              "      <td>ford motor credit company,llc</td>\n",
              "      <td>$11300</td>\n",
              "      <td>$12000</td>\n",
              "      <td>Tue Feb 10 2015 01:30:00 GMT-0800 (PST)</td>\n",
              "    </tr>\n",
              "    <tr>\n",
              "      <th>freq</th>\n",
              "      <td>7871</td>\n",
              "      <td>1610</td>\n",
              "      <td>4851</td>\n",
              "      <td>17171</td>\n",
              "      <td>44928</td>\n",
              "      <td>1</td>\n",
              "      <td>7451</td>\n",
              "      <td>86</td>\n",
              "      <td>9156</td>\n",
              "      <td>20734</td>\n",
              "      <td>1733</td>\n",
              "      <td>168</td>\n",
              "      <td>397</td>\n",
              "      <td>490</td>\n",
              "    </tr>\n",
              "  </tbody>\n",
              "</table>\n",
              "</div>"
            ],
            "text/plain": [
              "         make   model  ... sellingprice                                 saledate\n",
              "count   46578   46578  ...        46578                                    46578\n",
              "unique     48     648  ...          953                                     2286\n",
              "top      Ford  Altima  ...       $12000  Tue Feb 10 2015 01:30:00 GMT-0800 (PST)\n",
              "freq     7871    1610  ...          397                                      490\n",
              "\n",
              "[4 rows x 14 columns]"
            ]
          },
          "metadata": {},
          "execution_count": 5
        }
      ]
    },
    {
      "cell_type": "markdown",
      "metadata": {
        "id": "6RGC9EjJJYar"
      },
      "source": [
        "## Data Pre-Processing & Cleaning\n",
        "\n",
        "_Apply any data preprocessing and/or feature engineering below. Show/output the changes to the dataset._"
      ]
    },
    {
      "cell_type": "code",
      "execution_count": 6,
      "metadata": {
        "colab": {
          "base_uri": "https://localhost:8080/"
        },
        "id": "1kI6UnEaJYau",
        "outputId": "b2d4514a-64be-4870-9eb5-52ed9dfad6e3"
      },
      "outputs": [
        {
          "output_type": "execute_result",
          "data": {
            "text/plain": [
              "(46578, 16)"
            ]
          },
          "metadata": {},
          "execution_count": 6
        }
      ],
      "source": [
        "df.shape"
      ]
    },
    {
      "cell_type": "code",
      "source": [
        "duplicate_rows_df = df[df.duplicated()]\n",
        "print(\"number of duplicate rows: \", duplicate_rows_df.shape)"
      ],
      "metadata": {
        "colab": {
          "base_uri": "https://localhost:8080/"
        },
        "id": "WweNReQ7MOjh",
        "outputId": "9c17a152-69ac-44a9-b705-c253815c88c0"
      },
      "execution_count": 7,
      "outputs": [
        {
          "output_type": "stream",
          "name": "stdout",
          "text": [
            "number of duplicate rows:  (0, 16)\n"
          ]
        }
      ]
    },
    {
      "cell_type": "code",
      "source": [
        "df.count()      # Used to count the number of rows"
      ],
      "metadata": {
        "colab": {
          "base_uri": "https://localhost:8080/"
        },
        "id": "SsFQ8YGYMXYm",
        "outputId": "e3b32568-ec8c-4360-baa0-26e04b3557a2"
      },
      "execution_count": 8,
      "outputs": [
        {
          "output_type": "execute_result",
          "data": {
            "text/plain": [
              "year            46578\n",
              "make            46578\n",
              "model           46578\n",
              "trim            46578\n",
              "body            46578\n",
              "transmission    46578\n",
              "vin             46578\n",
              "state           46578\n",
              "condition       46578\n",
              "odometer        46578\n",
              "color           46578\n",
              "interior        46578\n",
              "seller          46578\n",
              "mmr             46578\n",
              "sellingprice    46578\n",
              "saledate        46578\n",
              "dtype: int64"
            ]
          },
          "metadata": {},
          "execution_count": 8
        }
      ]
    },
    {
      "cell_type": "code",
      "source": [
        "print(df.isnull().sum())"
      ],
      "metadata": {
        "colab": {
          "base_uri": "https://localhost:8080/"
        },
        "id": "2YlXamufMdVo",
        "outputId": "fa9021eb-8d63-483c-f5b6-fad0f037c363"
      },
      "execution_count": 9,
      "outputs": [
        {
          "output_type": "stream",
          "name": "stdout",
          "text": [
            "year            0\n",
            "make            0\n",
            "model           0\n",
            "trim            0\n",
            "body            0\n",
            "transmission    0\n",
            "vin             0\n",
            "state           0\n",
            "condition       0\n",
            "odometer        0\n",
            "color           0\n",
            "interior        0\n",
            "seller          0\n",
            "mmr             0\n",
            "sellingprice    0\n",
            "saledate        0\n",
            "dtype: int64\n"
          ]
        }
      ]
    },
    {
      "cell_type": "code",
      "source": [
        "df = df.drop(['vin', 'seller', 'state'], axis=1)\n",
        "df.head()"
      ],
      "metadata": {
        "colab": {
          "base_uri": "https://localhost:8080/",
          "height": 206
        },
        "id": "_eZADc26MwmW",
        "outputId": "2ea103e7-40bb-4a2b-b569-1cabc039bd8d"
      },
      "execution_count": 10,
      "outputs": [
        {
          "output_type": "execute_result",
          "data": {
            "text/html": [
              "<div>\n",
              "<style scoped>\n",
              "    .dataframe tbody tr th:only-of-type {\n",
              "        vertical-align: middle;\n",
              "    }\n",
              "\n",
              "    .dataframe tbody tr th {\n",
              "        vertical-align: top;\n",
              "    }\n",
              "\n",
              "    .dataframe thead th {\n",
              "        text-align: right;\n",
              "    }\n",
              "</style>\n",
              "<table border=\"1\" class=\"dataframe\">\n",
              "  <thead>\n",
              "    <tr style=\"text-align: right;\">\n",
              "      <th></th>\n",
              "      <th>year</th>\n",
              "      <th>make</th>\n",
              "      <th>model</th>\n",
              "      <th>trim</th>\n",
              "      <th>body</th>\n",
              "      <th>transmission</th>\n",
              "      <th>condition</th>\n",
              "      <th>odometer</th>\n",
              "      <th>color</th>\n",
              "      <th>interior</th>\n",
              "      <th>mmr</th>\n",
              "      <th>sellingprice</th>\n",
              "      <th>saledate</th>\n",
              "    </tr>\n",
              "  </thead>\n",
              "  <tbody>\n",
              "    <tr>\n",
              "      <th>0</th>\n",
              "      <td>2013</td>\n",
              "      <td>Hyundai</td>\n",
              "      <td>Sonata</td>\n",
              "      <td>GLS</td>\n",
              "      <td>sedan</td>\n",
              "      <td>automatic</td>\n",
              "      <td>3.9</td>\n",
              "      <td>50404.0mi</td>\n",
              "      <td>black</td>\n",
              "      <td>gray</td>\n",
              "      <td>$11000</td>\n",
              "      <td>$10900</td>\n",
              "      <td>Tue Jun 02 2015 02:30:00 GMT-0700 (PDT)</td>\n",
              "    </tr>\n",
              "    <tr>\n",
              "      <th>1</th>\n",
              "      <td>2014</td>\n",
              "      <td>Toyota</td>\n",
              "      <td>4Runner</td>\n",
              "      <td>SR5</td>\n",
              "      <td>SUV</td>\n",
              "      <td>automatic</td>\n",
              "      <td>4.9</td>\n",
              "      <td>17846.0mi</td>\n",
              "      <td>gray</td>\n",
              "      <td>—</td>\n",
              "      <td>$28700</td>\n",
              "      <td>$29900</td>\n",
              "      <td>Wed Feb 18 2015 07:15:00 GMT-0800 (PST)</td>\n",
              "    </tr>\n",
              "    <tr>\n",
              "      <th>2</th>\n",
              "      <td>2012</td>\n",
              "      <td>Lexus</td>\n",
              "      <td>IS 250</td>\n",
              "      <td>Base</td>\n",
              "      <td>Sedan</td>\n",
              "      <td>automatic</td>\n",
              "      <td>4.1</td>\n",
              "      <td>21122.0mi</td>\n",
              "      <td>silver</td>\n",
              "      <td>black</td>\n",
              "      <td>$22200</td>\n",
              "      <td>$24200</td>\n",
              "      <td>Tue Jan 20 2015 01:30:00 GMT-0800 (PST)</td>\n",
              "    </tr>\n",
              "    <tr>\n",
              "      <th>3</th>\n",
              "      <td>2002</td>\n",
              "      <td>BMW</td>\n",
              "      <td>X5</td>\n",
              "      <td>4.4i</td>\n",
              "      <td>SUV</td>\n",
              "      <td>automatic</td>\n",
              "      <td>1.9</td>\n",
              "      <td>145303.0mi</td>\n",
              "      <td>black</td>\n",
              "      <td>black</td>\n",
              "      <td>$3675</td>\n",
              "      <td>$3200</td>\n",
              "      <td>Wed Mar 04 2015 07:10:00 GMT-0800 (PST)</td>\n",
              "    </tr>\n",
              "    <tr>\n",
              "      <th>4</th>\n",
              "      <td>2014</td>\n",
              "      <td>Ford</td>\n",
              "      <td>E-Series Van</td>\n",
              "      <td>E-250</td>\n",
              "      <td>E-Series Van</td>\n",
              "      <td>automatic</td>\n",
              "      <td>4.9</td>\n",
              "      <td>6714.0mi</td>\n",
              "      <td>white</td>\n",
              "      <td>gray</td>\n",
              "      <td>$22500</td>\n",
              "      <td>$22100</td>\n",
              "      <td>Wed Feb 18 2015 06:45:00 GMT-0800 (PST)</td>\n",
              "    </tr>\n",
              "  </tbody>\n",
              "</table>\n",
              "</div>"
            ],
            "text/plain": [
              "   year     make  ... sellingprice                                 saledate\n",
              "0  2013  Hyundai  ...       $10900  Tue Jun 02 2015 02:30:00 GMT-0700 (PDT)\n",
              "1  2014   Toyota  ...       $29900  Wed Feb 18 2015 07:15:00 GMT-0800 (PST)\n",
              "2  2012    Lexus  ...       $24200  Tue Jan 20 2015 01:30:00 GMT-0800 (PST)\n",
              "3  2002      BMW  ...        $3200  Wed Mar 04 2015 07:10:00 GMT-0800 (PST)\n",
              "4  2014     Ford  ...       $22100  Wed Feb 18 2015 06:45:00 GMT-0800 (PST)\n",
              "\n",
              "[5 rows x 13 columns]"
            ]
          },
          "metadata": {},
          "execution_count": 10
        }
      ]
    },
    {
      "cell_type": "code",
      "source": [
        "# Remove $ from price before conversion to float\n",
        "df['mmr'] = df['mmr'].str.strip(\"$\")\n",
        "# Print header to make sure change was done\n",
        "df['mmr'].head()"
      ],
      "metadata": {
        "colab": {
          "base_uri": "https://localhost:8080/"
        },
        "id": "FL-Xy_nRNpXN",
        "outputId": "8b356db9-5b96-4ca4-c0eb-f99cb68f0626"
      },
      "execution_count": 11,
      "outputs": [
        {
          "output_type": "execute_result",
          "data": {
            "text/plain": [
              "0    11000\n",
              "1    28700\n",
              "2    22200\n",
              "3     3675\n",
              "4    22500\n",
              "Name: mmr, dtype: object"
            ]
          },
          "metadata": {},
          "execution_count": 11
        }
      ]
    },
    {
      "cell_type": "code",
      "source": [
        "# Remove $ from price before conversion to float\n",
        "df['sellingprice'] = df['sellingprice'].str.strip(\"$\")\n",
        "# Print header to make sure change was done\n",
        "df['sellingprice'].head()"
      ],
      "metadata": {
        "colab": {
          "base_uri": "https://localhost:8080/"
        },
        "id": "M42IbpleSPJc",
        "outputId": "162779b0-1982-47aa-bd98-13b6a96dc8e6"
      },
      "execution_count": 12,
      "outputs": [
        {
          "output_type": "execute_result",
          "data": {
            "text/plain": [
              "0    10900\n",
              "1    29900\n",
              "2    24200\n",
              "3     3200\n",
              "4    22100\n",
              "Name: sellingprice, dtype: object"
            ]
          },
          "metadata": {},
          "execution_count": 12
        }
      ]
    },
    {
      "cell_type": "code",
      "source": [
        "# Remove mi from odometer before conversion to float\n",
        "df['odometer'] = df['odometer'].str.strip(\"mi\")\n",
        "# Print header to make sure change was done\n",
        "df['odometer'].head()"
      ],
      "metadata": {
        "colab": {
          "base_uri": "https://localhost:8080/"
        },
        "id": "zBQQA78bRVUJ",
        "outputId": "187a9604-4c63-45b1-94ba-7c2e53119c3a"
      },
      "execution_count": 13,
      "outputs": [
        {
          "output_type": "execute_result",
          "data": {
            "text/plain": [
              "0     50404.0\n",
              "1     17846.0\n",
              "2     21122.0\n",
              "3    145303.0\n",
              "4      6714.0\n",
              "Name: odometer, dtype: object"
            ]
          },
          "metadata": {},
          "execution_count": 13
        }
      ]
    },
    {
      "cell_type": "code",
      "source": [
        "# Convert mmr to float\n",
        "df['mmr'] = df['mmr'].astype('float')\n",
        "# Calculate mean of price after conversion\n",
        "df['mmr'].mean()"
      ],
      "metadata": {
        "colab": {
          "base_uri": "https://localhost:8080/"
        },
        "id": "d_OCYw7FN4_x",
        "outputId": "486d43da-37be-4247-a05d-cc3735dad1c4"
      },
      "execution_count": 14,
      "outputs": [
        {
          "output_type": "execute_result",
          "data": {
            "text/plain": [
              "13810.58010219417"
            ]
          },
          "metadata": {},
          "execution_count": 14
        }
      ]
    },
    {
      "cell_type": "code",
      "source": [
        "# Convert price to float\n",
        "df['sellingprice'] = df['sellingprice'].astype('float')\n",
        "# Calculate mean of price after conversion\n",
        "df['sellingprice'].mean()"
      ],
      "metadata": {
        "colab": {
          "base_uri": "https://localhost:8080/"
        },
        "id": "DBRXtDffSUvX",
        "outputId": "4d8f31c4-560f-4157-af9b-6965f264d438"
      },
      "execution_count": 15,
      "outputs": [
        {
          "output_type": "execute_result",
          "data": {
            "text/plain": [
              "13669.705204173644"
            ]
          },
          "metadata": {},
          "execution_count": 15
        }
      ]
    },
    {
      "cell_type": "code",
      "source": [
        "# Convert odometer to float\n",
        "df['odometer'] = df['odometer'].astype('float')\n",
        "# Calculate mean of price after conversion\n",
        "df['odometer'].mean()"
      ],
      "metadata": {
        "colab": {
          "base_uri": "https://localhost:8080/"
        },
        "id": "KH23vsQ4Rf2c",
        "outputId": "47e4725a-ffa9-417e-a465-580c45b20bea"
      },
      "execution_count": 16,
      "outputs": [
        {
          "output_type": "execute_result",
          "data": {
            "text/plain": [
              "66850.64262097987"
            ]
          },
          "metadata": {},
          "execution_count": 16
        }
      ]
    },
    {
      "cell_type": "code",
      "source": [
        "df['body'].unique()"
      ],
      "metadata": {
        "colab": {
          "base_uri": "https://localhost:8080/"
        },
        "id": "g10RlhqLO7P-",
        "outputId": "89fddc1b-76ba-46a7-dae0-c6e2829fd9fc"
      },
      "execution_count": 17,
      "outputs": [
        {
          "output_type": "execute_result",
          "data": {
            "text/plain": [
              "array(['sedan', 'SUV', 'Sedan', 'E-Series Van', 'Crew Cab', 'suv',\n",
              "       'G Sedan', 'Wagon', 'Regular Cab', 'Double Cab', 'wagon', 'Coupe',\n",
              "       'Minivan', 'SuperCrew', 'coupe', 'convertible', 'Extended Cab',\n",
              "       'Hatchback', 'van', 'hatchback', 'Van', 'Convertible', 'SuperCab',\n",
              "       'g sedan', 'king cab', 'G Convertible', 'King Cab', 'extended cab',\n",
              "       'quad cab', 'supercab', 'Beetle Convertible', 'minivan', 'G Coupe',\n",
              "       'Quad Cab', 'crew cab', 'supercrew', 'CrewMax Cab', 'double cab',\n",
              "       'g coupe', 'Club Cab', 'Access Cab', 'Genesis Coupe',\n",
              "       'e-series van', 'G37 Convertible', 'Cab Plus 4', 'crewmax cab',\n",
              "       'genesis coupe', 'promaster cargo van', 'access cab', 'Mega Cab',\n",
              "       'Koup', 'regular cab', 'mega cab', 'Elantra Coupe',\n",
              "       'Q60 Convertible', 'regular-cab', 'Promaster Cargo Van', 'Xtracab',\n",
              "       'CTS Coupe', 'CTS Wagon', 'GranTurismo Convertible',\n",
              "       'beetle convertible', 'TSX Sport Wagon', 'g convertible',\n",
              "       'tsx sport wagon', 'CTS-V Coupe', 'Q60 Coupe',\n",
              "       'granturismo convertible', 'cts coupe', 'Transit Van', 'xtracab'],\n",
              "      dtype=object)"
            ]
          },
          "metadata": {},
          "execution_count": 17
        }
      ]
    },
    {
      "cell_type": "code",
      "source": [
        "df['body'] = df['body'].str.lower()\n",
        "df['body'].unique()"
      ],
      "metadata": {
        "colab": {
          "base_uri": "https://localhost:8080/"
        },
        "id": "XWZ839uxPSor",
        "outputId": "23df6a4c-b82a-40ee-cafd-4e16d32f6e6e"
      },
      "execution_count": 18,
      "outputs": [
        {
          "output_type": "execute_result",
          "data": {
            "text/plain": [
              "array(['sedan', 'suv', 'e-series van', 'crew cab', 'g sedan', 'wagon',\n",
              "       'regular cab', 'double cab', 'coupe', 'minivan', 'supercrew',\n",
              "       'convertible', 'extended cab', 'hatchback', 'van', 'supercab',\n",
              "       'king cab', 'g convertible', 'quad cab', 'beetle convertible',\n",
              "       'g coupe', 'crewmax cab', 'club cab', 'access cab',\n",
              "       'genesis coupe', 'g37 convertible', 'cab plus 4',\n",
              "       'promaster cargo van', 'mega cab', 'koup', 'elantra coupe',\n",
              "       'q60 convertible', 'regular-cab', 'xtracab', 'cts coupe',\n",
              "       'cts wagon', 'granturismo convertible', 'tsx sport wagon',\n",
              "       'cts-v coupe', 'q60 coupe', 'transit van'], dtype=object)"
            ]
          },
          "metadata": {},
          "execution_count": 18
        }
      ]
    },
    {
      "cell_type": "code",
      "source": [
        "df[df['sellingprice'].isna()].describe()"
      ],
      "metadata": {
        "colab": {
          "base_uri": "https://localhost:8080/",
          "height": 300
        },
        "id": "Ye1SDUsMPnos",
        "outputId": "e6f5dd3c-8e6c-496b-894d-d06e70b0ef83"
      },
      "execution_count": 19,
      "outputs": [
        {
          "output_type": "execute_result",
          "data": {
            "text/html": [
              "<div>\n",
              "<style scoped>\n",
              "    .dataframe tbody tr th:only-of-type {\n",
              "        vertical-align: middle;\n",
              "    }\n",
              "\n",
              "    .dataframe tbody tr th {\n",
              "        vertical-align: top;\n",
              "    }\n",
              "\n",
              "    .dataframe thead th {\n",
              "        text-align: right;\n",
              "    }\n",
              "</style>\n",
              "<table border=\"1\" class=\"dataframe\">\n",
              "  <thead>\n",
              "    <tr style=\"text-align: right;\">\n",
              "      <th></th>\n",
              "      <th>year</th>\n",
              "      <th>condition</th>\n",
              "      <th>odometer</th>\n",
              "      <th>mmr</th>\n",
              "      <th>sellingprice</th>\n",
              "    </tr>\n",
              "  </thead>\n",
              "  <tbody>\n",
              "    <tr>\n",
              "      <th>count</th>\n",
              "      <td>0.0</td>\n",
              "      <td>0.0</td>\n",
              "      <td>0.0</td>\n",
              "      <td>0.0</td>\n",
              "      <td>0.0</td>\n",
              "    </tr>\n",
              "    <tr>\n",
              "      <th>mean</th>\n",
              "      <td>NaN</td>\n",
              "      <td>NaN</td>\n",
              "      <td>NaN</td>\n",
              "      <td>NaN</td>\n",
              "      <td>NaN</td>\n",
              "    </tr>\n",
              "    <tr>\n",
              "      <th>std</th>\n",
              "      <td>NaN</td>\n",
              "      <td>NaN</td>\n",
              "      <td>NaN</td>\n",
              "      <td>NaN</td>\n",
              "      <td>NaN</td>\n",
              "    </tr>\n",
              "    <tr>\n",
              "      <th>min</th>\n",
              "      <td>NaN</td>\n",
              "      <td>NaN</td>\n",
              "      <td>NaN</td>\n",
              "      <td>NaN</td>\n",
              "      <td>NaN</td>\n",
              "    </tr>\n",
              "    <tr>\n",
              "      <th>25%</th>\n",
              "      <td>NaN</td>\n",
              "      <td>NaN</td>\n",
              "      <td>NaN</td>\n",
              "      <td>NaN</td>\n",
              "      <td>NaN</td>\n",
              "    </tr>\n",
              "    <tr>\n",
              "      <th>50%</th>\n",
              "      <td>NaN</td>\n",
              "      <td>NaN</td>\n",
              "      <td>NaN</td>\n",
              "      <td>NaN</td>\n",
              "      <td>NaN</td>\n",
              "    </tr>\n",
              "    <tr>\n",
              "      <th>75%</th>\n",
              "      <td>NaN</td>\n",
              "      <td>NaN</td>\n",
              "      <td>NaN</td>\n",
              "      <td>NaN</td>\n",
              "      <td>NaN</td>\n",
              "    </tr>\n",
              "    <tr>\n",
              "      <th>max</th>\n",
              "      <td>NaN</td>\n",
              "      <td>NaN</td>\n",
              "      <td>NaN</td>\n",
              "      <td>NaN</td>\n",
              "      <td>NaN</td>\n",
              "    </tr>\n",
              "  </tbody>\n",
              "</table>\n",
              "</div>"
            ],
            "text/plain": [
              "       year  condition  odometer  mmr  sellingprice\n",
              "count   0.0        0.0       0.0  0.0           0.0\n",
              "mean    NaN        NaN       NaN  NaN           NaN\n",
              "std     NaN        NaN       NaN  NaN           NaN\n",
              "min     NaN        NaN       NaN  NaN           NaN\n",
              "25%     NaN        NaN       NaN  NaN           NaN\n",
              "50%     NaN        NaN       NaN  NaN           NaN\n",
              "75%     NaN        NaN       NaN  NaN           NaN\n",
              "max     NaN        NaN       NaN  NaN           NaN"
            ]
          },
          "metadata": {},
          "execution_count": 19
        }
      ]
    },
    {
      "cell_type": "code",
      "source": [
        "df[~df['sellingprice'].isna()].describe()"
      ],
      "metadata": {
        "colab": {
          "base_uri": "https://localhost:8080/",
          "height": 300
        },
        "id": "NTJ_O2sHQ17k",
        "outputId": "1db369dd-187b-416c-83c5-e1f3d99af87b"
      },
      "execution_count": 20,
      "outputs": [
        {
          "output_type": "execute_result",
          "data": {
            "text/html": [
              "<div>\n",
              "<style scoped>\n",
              "    .dataframe tbody tr th:only-of-type {\n",
              "        vertical-align: middle;\n",
              "    }\n",
              "\n",
              "    .dataframe tbody tr th {\n",
              "        vertical-align: top;\n",
              "    }\n",
              "\n",
              "    .dataframe thead th {\n",
              "        text-align: right;\n",
              "    }\n",
              "</style>\n",
              "<table border=\"1\" class=\"dataframe\">\n",
              "  <thead>\n",
              "    <tr style=\"text-align: right;\">\n",
              "      <th></th>\n",
              "      <th>year</th>\n",
              "      <th>condition</th>\n",
              "      <th>odometer</th>\n",
              "      <th>mmr</th>\n",
              "      <th>sellingprice</th>\n",
              "    </tr>\n",
              "  </thead>\n",
              "  <tbody>\n",
              "    <tr>\n",
              "      <th>count</th>\n",
              "      <td>46578.000000</td>\n",
              "      <td>46578.000000</td>\n",
              "      <td>46578.000000</td>\n",
              "      <td>46578.000000</td>\n",
              "      <td>46578.000000</td>\n",
              "    </tr>\n",
              "    <tr>\n",
              "      <th>mean</th>\n",
              "      <td>2010.203401</td>\n",
              "      <td>3.424265</td>\n",
              "      <td>66850.642621</td>\n",
              "      <td>13810.580102</td>\n",
              "      <td>13669.705204</td>\n",
              "    </tr>\n",
              "    <tr>\n",
              "      <th>std</th>\n",
              "      <td>3.831316</td>\n",
              "      <td>0.944009</td>\n",
              "      <td>51868.395670</td>\n",
              "      <td>9510.332473</td>\n",
              "      <td>9632.257208</td>\n",
              "    </tr>\n",
              "    <tr>\n",
              "      <th>min</th>\n",
              "      <td>1990.000000</td>\n",
              "      <td>1.000000</td>\n",
              "      <td>1.000000</td>\n",
              "      <td>25.000000</td>\n",
              "      <td>150.000000</td>\n",
              "    </tr>\n",
              "    <tr>\n",
              "      <th>25%</th>\n",
              "      <td>2008.000000</td>\n",
              "      <td>2.700000</td>\n",
              "      <td>28185.000000</td>\n",
              "      <td>7400.000000</td>\n",
              "      <td>7100.000000</td>\n",
              "    </tr>\n",
              "    <tr>\n",
              "      <th>50%</th>\n",
              "      <td>2012.000000</td>\n",
              "      <td>3.600000</td>\n",
              "      <td>51193.000000</td>\n",
              "      <td>12300.000000</td>\n",
              "      <td>12200.000000</td>\n",
              "    </tr>\n",
              "    <tr>\n",
              "      <th>75%</th>\n",
              "      <td>2013.000000</td>\n",
              "      <td>4.200000</td>\n",
              "      <td>97146.500000</td>\n",
              "      <td>18250.000000</td>\n",
              "      <td>18200.000000</td>\n",
              "    </tr>\n",
              "    <tr>\n",
              "      <th>max</th>\n",
              "      <td>2015.000000</td>\n",
              "      <td>5.000000</td>\n",
              "      <td>999999.000000</td>\n",
              "      <td>146000.000000</td>\n",
              "      <td>230000.000000</td>\n",
              "    </tr>\n",
              "  </tbody>\n",
              "</table>\n",
              "</div>"
            ],
            "text/plain": [
              "               year     condition       odometer            mmr   sellingprice\n",
              "count  46578.000000  46578.000000   46578.000000   46578.000000   46578.000000\n",
              "mean    2010.203401      3.424265   66850.642621   13810.580102   13669.705204\n",
              "std        3.831316      0.944009   51868.395670    9510.332473    9632.257208\n",
              "min     1990.000000      1.000000       1.000000      25.000000     150.000000\n",
              "25%     2008.000000      2.700000   28185.000000    7400.000000    7100.000000\n",
              "50%     2012.000000      3.600000   51193.000000   12300.000000   12200.000000\n",
              "75%     2013.000000      4.200000   97146.500000   18250.000000   18200.000000\n",
              "max     2015.000000      5.000000  999999.000000  146000.000000  230000.000000"
            ]
          },
          "metadata": {},
          "execution_count": 20
        }
      ]
    },
    {
      "cell_type": "code",
      "source": [
        "df.head()"
      ],
      "metadata": {
        "colab": {
          "base_uri": "https://localhost:8080/",
          "height": 206
        },
        "id": "Ebrj02qORnjn",
        "outputId": "89f5a908-523f-4ac3-fff0-c03e268b88d7"
      },
      "execution_count": 21,
      "outputs": [
        {
          "output_type": "execute_result",
          "data": {
            "text/html": [
              "<div>\n",
              "<style scoped>\n",
              "    .dataframe tbody tr th:only-of-type {\n",
              "        vertical-align: middle;\n",
              "    }\n",
              "\n",
              "    .dataframe tbody tr th {\n",
              "        vertical-align: top;\n",
              "    }\n",
              "\n",
              "    .dataframe thead th {\n",
              "        text-align: right;\n",
              "    }\n",
              "</style>\n",
              "<table border=\"1\" class=\"dataframe\">\n",
              "  <thead>\n",
              "    <tr style=\"text-align: right;\">\n",
              "      <th></th>\n",
              "      <th>year</th>\n",
              "      <th>make</th>\n",
              "      <th>model</th>\n",
              "      <th>trim</th>\n",
              "      <th>body</th>\n",
              "      <th>transmission</th>\n",
              "      <th>condition</th>\n",
              "      <th>odometer</th>\n",
              "      <th>color</th>\n",
              "      <th>interior</th>\n",
              "      <th>mmr</th>\n",
              "      <th>sellingprice</th>\n",
              "      <th>saledate</th>\n",
              "    </tr>\n",
              "  </thead>\n",
              "  <tbody>\n",
              "    <tr>\n",
              "      <th>0</th>\n",
              "      <td>2013</td>\n",
              "      <td>Hyundai</td>\n",
              "      <td>Sonata</td>\n",
              "      <td>GLS</td>\n",
              "      <td>sedan</td>\n",
              "      <td>automatic</td>\n",
              "      <td>3.9</td>\n",
              "      <td>50404.0</td>\n",
              "      <td>black</td>\n",
              "      <td>gray</td>\n",
              "      <td>11000.0</td>\n",
              "      <td>10900.0</td>\n",
              "      <td>Tue Jun 02 2015 02:30:00 GMT-0700 (PDT)</td>\n",
              "    </tr>\n",
              "    <tr>\n",
              "      <th>1</th>\n",
              "      <td>2014</td>\n",
              "      <td>Toyota</td>\n",
              "      <td>4Runner</td>\n",
              "      <td>SR5</td>\n",
              "      <td>suv</td>\n",
              "      <td>automatic</td>\n",
              "      <td>4.9</td>\n",
              "      <td>17846.0</td>\n",
              "      <td>gray</td>\n",
              "      <td>—</td>\n",
              "      <td>28700.0</td>\n",
              "      <td>29900.0</td>\n",
              "      <td>Wed Feb 18 2015 07:15:00 GMT-0800 (PST)</td>\n",
              "    </tr>\n",
              "    <tr>\n",
              "      <th>2</th>\n",
              "      <td>2012</td>\n",
              "      <td>Lexus</td>\n",
              "      <td>IS 250</td>\n",
              "      <td>Base</td>\n",
              "      <td>sedan</td>\n",
              "      <td>automatic</td>\n",
              "      <td>4.1</td>\n",
              "      <td>21122.0</td>\n",
              "      <td>silver</td>\n",
              "      <td>black</td>\n",
              "      <td>22200.0</td>\n",
              "      <td>24200.0</td>\n",
              "      <td>Tue Jan 20 2015 01:30:00 GMT-0800 (PST)</td>\n",
              "    </tr>\n",
              "    <tr>\n",
              "      <th>3</th>\n",
              "      <td>2002</td>\n",
              "      <td>BMW</td>\n",
              "      <td>X5</td>\n",
              "      <td>4.4i</td>\n",
              "      <td>suv</td>\n",
              "      <td>automatic</td>\n",
              "      <td>1.9</td>\n",
              "      <td>145303.0</td>\n",
              "      <td>black</td>\n",
              "      <td>black</td>\n",
              "      <td>3675.0</td>\n",
              "      <td>3200.0</td>\n",
              "      <td>Wed Mar 04 2015 07:10:00 GMT-0800 (PST)</td>\n",
              "    </tr>\n",
              "    <tr>\n",
              "      <th>4</th>\n",
              "      <td>2014</td>\n",
              "      <td>Ford</td>\n",
              "      <td>E-Series Van</td>\n",
              "      <td>E-250</td>\n",
              "      <td>e-series van</td>\n",
              "      <td>automatic</td>\n",
              "      <td>4.9</td>\n",
              "      <td>6714.0</td>\n",
              "      <td>white</td>\n",
              "      <td>gray</td>\n",
              "      <td>22500.0</td>\n",
              "      <td>22100.0</td>\n",
              "      <td>Wed Feb 18 2015 06:45:00 GMT-0800 (PST)</td>\n",
              "    </tr>\n",
              "  </tbody>\n",
              "</table>\n",
              "</div>"
            ],
            "text/plain": [
              "   year     make  ... sellingprice                                 saledate\n",
              "0  2013  Hyundai  ...      10900.0  Tue Jun 02 2015 02:30:00 GMT-0700 (PDT)\n",
              "1  2014   Toyota  ...      29900.0  Wed Feb 18 2015 07:15:00 GMT-0800 (PST)\n",
              "2  2012    Lexus  ...      24200.0  Tue Jan 20 2015 01:30:00 GMT-0800 (PST)\n",
              "3  2002      BMW  ...       3200.0  Wed Mar 04 2015 07:10:00 GMT-0800 (PST)\n",
              "4  2014     Ford  ...      22100.0  Wed Feb 18 2015 06:45:00 GMT-0800 (PST)\n",
              "\n",
              "[5 rows x 13 columns]"
            ]
          },
          "metadata": {},
          "execution_count": 21
        }
      ]
    },
    {
      "cell_type": "markdown",
      "metadata": {
        "id": "7sYP_thYJYax"
      },
      "source": [
        "## Exploratory Data Analysis\n"
      ]
    },
    {
      "cell_type": "markdown",
      "metadata": {
        "id": "5uWSy9tZJYaz"
      },
      "source": [
        "**Q0 (example): What is the most popular car exterior color?**\n"
      ]
    },
    {
      "cell_type": "markdown",
      "metadata": {
        "id": "yPk-4e3_JYa1"
      },
      "source": [
        "**Visualization**"
      ]
    },
    {
      "cell_type": "code",
      "execution_count": null,
      "metadata": {
        "id": "6HbP0k9sJYa3",
        "outputId": "d524aa75-c3ac-4d23-e705-56aaacb7bcdd"
      },
      "outputs": [
        {
          "data": {
            "text/plain": [
              "<AxesSubplot:xlabel='color', ylabel='count'>"
            ]
          },
          "execution_count": 2,
          "metadata": {},
          "output_type": "execute_result"
        },
        {
          "data": {
            "image/png": "[encoded data removed]",
            "text/plain": [
              "<Figure size 576x396 with 1 Axes>"
            ]
          },
          "metadata": {},
          "output_type": "display_data"
        }
      ],
      "source": [
        "# Basic, minimal plot example\n",
        "sns.countplot(x='color', data=df)"
      ]
    },
    {
      "cell_type": "code",
      "execution_count": null,
      "metadata": {
        "id": "fI5H-hgAJYa5",
        "outputId": "26239fec-6437-4bbd-c77d-d3215337ca59"
      },
      "outputs": [
        {
          "data": {
            "image/png": "[encoded data removed]",
            "text/plain": [
              "<Figure size 576x396 with 1 Axes>"
            ]
          },
          "metadata": {},
          "output_type": "display_data"
        }
      ],
      "source": [
        "# Much better plot, with sorting in descending order, rotated x-axis labels for clarity, and a plot title\n",
        "# Your visualizations should be neatly presented like the example below.\n",
        "large_to_small = df.groupby('color').size().sort_values(ascending=False)\n",
        "sns.countplot(x='color', data=df, order=large_to_small.index).set(title='Most popular colors sold on the used car auction market')\n",
        "plt.xticks(rotation=90)\n",
        "plt.tight_layout()"
      ]
    },
    {
      "cell_type": "markdown",
      "metadata": {
        "id": "fqKeCtMTJYa7"
      },
      "source": [
        "**Example note:** _you need to answer using a visualization (above) and a written/text answer (below)._\n",
        "\n",
        "**Answer for Q0**: Black is the most popular exterior color of used cars sold in auctions, followed very closely by white."
      ]
    },
    {
      "cell_type": "markdown",
      "metadata": {
        "id": "PPWIrxRPJYa8"
      },
      "source": [
        "**Q1: What are the most popular car brands? (mention at least 3)**\n"
      ]
    },
    {
      "cell_type": "markdown",
      "metadata": {
        "id": "kFQgCG5_JYa-"
      },
      "source": [
        "**Visualization**"
      ]
    },
    {
      "cell_type": "code",
      "execution_count": 22,
      "metadata": {
        "colab": {
          "base_uri": "https://localhost:8080/",
          "height": 405
        },
        "id": "-MQqvqT0JYa_",
        "outputId": "cebd673f-f6c7-4df2-f05c-5b2747ca18ad"
      },
      "outputs": [
        {
          "output_type": "display_data",
          "data": {
            "image/png": "[encoded data removed]",
            "text/plain": [
              "<Figure size 576x396 with 1 Axes>"
            ]
          },
          "metadata": {}
        }
      ],
      "source": [
        "large_to_small = df.groupby('make').size().sort_values(ascending=False)\n",
        "sns.countplot(x='make', data=df, order=large_to_small.index).set(title='Most popular car brands in the used car auction market')\n",
        "plt.xticks(rotation=90)\n",
        "plt.tight_layout()"
      ]
    },
    {
      "cell_type": "markdown",
      "metadata": {
        "id": "TxgOa5-DJYbA"
      },
      "source": [
        "**Answer for Q1**: Ford, Chevrolet, and Nissan are the most popular car brands."
      ]
    },
    {
      "cell_type": "markdown",
      "metadata": {
        "id": "yOqB8yqDJYbB"
      },
      "source": [
        "**Q2: Do automatic cars, on average, sell for a higher price than manual cars?**\n"
      ]
    },
    {
      "cell_type": "markdown",
      "metadata": {
        "id": "6yWgxAAzJYbC"
      },
      "source": [
        "**Visualization**"
      ]
    },
    {
      "cell_type": "code",
      "execution_count": 23,
      "metadata": {
        "colab": {
          "base_uri": "https://localhost:8080/",
          "height": 629
        },
        "id": "qF6NxLwOJYbC",
        "outputId": "7801e0b3-48a0-4531-a943-0c0ed91bd34e"
      },
      "outputs": [
        {
          "output_type": "execute_result",
          "data": {
            "text/html": [
              "<div>\n",
              "<style scoped>\n",
              "    .dataframe tbody tr th:only-of-type {\n",
              "        vertical-align: middle;\n",
              "    }\n",
              "\n",
              "    .dataframe tbody tr th {\n",
              "        vertical-align: top;\n",
              "    }\n",
              "\n",
              "    .dataframe thead th {\n",
              "        text-align: right;\n",
              "    }\n",
              "</style>\n",
              "<table border=\"1\" class=\"dataframe\">\n",
              "  <thead>\n",
              "    <tr style=\"text-align: right;\">\n",
              "      <th></th>\n",
              "      <th></th>\n",
              "      <th>year</th>\n",
              "      <th>make</th>\n",
              "      <th>model</th>\n",
              "      <th>trim</th>\n",
              "      <th>body</th>\n",
              "      <th>transmission</th>\n",
              "      <th>condition</th>\n",
              "      <th>odometer</th>\n",
              "      <th>color</th>\n",
              "      <th>interior</th>\n",
              "      <th>mmr</th>\n",
              "      <th>sellingprice</th>\n",
              "      <th>saledate</th>\n",
              "    </tr>\n",
              "    <tr>\n",
              "      <th>transmission</th>\n",
              "      <th></th>\n",
              "      <th></th>\n",
              "      <th></th>\n",
              "      <th></th>\n",
              "      <th></th>\n",
              "      <th></th>\n",
              "      <th></th>\n",
              "      <th></th>\n",
              "      <th></th>\n",
              "      <th></th>\n",
              "      <th></th>\n",
              "      <th></th>\n",
              "      <th></th>\n",
              "      <th></th>\n",
              "    </tr>\n",
              "  </thead>\n",
              "  <tbody>\n",
              "    <tr>\n",
              "      <th rowspan=\"5\" valign=\"top\">automatic</th>\n",
              "      <th>0</th>\n",
              "      <td>2013</td>\n",
              "      <td>Hyundai</td>\n",
              "      <td>Sonata</td>\n",
              "      <td>GLS</td>\n",
              "      <td>sedan</td>\n",
              "      <td>automatic</td>\n",
              "      <td>3.9</td>\n",
              "      <td>50404.0</td>\n",
              "      <td>black</td>\n",
              "      <td>gray</td>\n",
              "      <td>11000.0</td>\n",
              "      <td>10900.0</td>\n",
              "      <td>Tue Jun 02 2015 02:30:00 GMT-0700 (PDT)</td>\n",
              "    </tr>\n",
              "    <tr>\n",
              "      <th>1</th>\n",
              "      <td>2014</td>\n",
              "      <td>Toyota</td>\n",
              "      <td>4Runner</td>\n",
              "      <td>SR5</td>\n",
              "      <td>suv</td>\n",
              "      <td>automatic</td>\n",
              "      <td>4.9</td>\n",
              "      <td>17846.0</td>\n",
              "      <td>gray</td>\n",
              "      <td>—</td>\n",
              "      <td>28700.0</td>\n",
              "      <td>29900.0</td>\n",
              "      <td>Wed Feb 18 2015 07:15:00 GMT-0800 (PST)</td>\n",
              "    </tr>\n",
              "    <tr>\n",
              "      <th>2</th>\n",
              "      <td>2012</td>\n",
              "      <td>Lexus</td>\n",
              "      <td>IS 250</td>\n",
              "      <td>Base</td>\n",
              "      <td>sedan</td>\n",
              "      <td>automatic</td>\n",
              "      <td>4.1</td>\n",
              "      <td>21122.0</td>\n",
              "      <td>silver</td>\n",
              "      <td>black</td>\n",
              "      <td>22200.0</td>\n",
              "      <td>24200.0</td>\n",
              "      <td>Tue Jan 20 2015 01:30:00 GMT-0800 (PST)</td>\n",
              "    </tr>\n",
              "    <tr>\n",
              "      <th>3</th>\n",
              "      <td>2002</td>\n",
              "      <td>BMW</td>\n",
              "      <td>X5</td>\n",
              "      <td>4.4i</td>\n",
              "      <td>suv</td>\n",
              "      <td>automatic</td>\n",
              "      <td>1.9</td>\n",
              "      <td>145303.0</td>\n",
              "      <td>black</td>\n",
              "      <td>black</td>\n",
              "      <td>3675.0</td>\n",
              "      <td>3200.0</td>\n",
              "      <td>Wed Mar 04 2015 07:10:00 GMT-0800 (PST)</td>\n",
              "    </tr>\n",
              "    <tr>\n",
              "      <th>4</th>\n",
              "      <td>2014</td>\n",
              "      <td>Ford</td>\n",
              "      <td>E-Series Van</td>\n",
              "      <td>E-250</td>\n",
              "      <td>e-series van</td>\n",
              "      <td>automatic</td>\n",
              "      <td>4.9</td>\n",
              "      <td>6714.0</td>\n",
              "      <td>white</td>\n",
              "      <td>gray</td>\n",
              "      <td>22500.0</td>\n",
              "      <td>22100.0</td>\n",
              "      <td>Wed Feb 18 2015 06:45:00 GMT-0800 (PST)</td>\n",
              "    </tr>\n",
              "    <tr>\n",
              "      <th>...</th>\n",
              "      <th>...</th>\n",
              "      <td>...</td>\n",
              "      <td>...</td>\n",
              "      <td>...</td>\n",
              "      <td>...</td>\n",
              "      <td>...</td>\n",
              "      <td>...</td>\n",
              "      <td>...</td>\n",
              "      <td>...</td>\n",
              "      <td>...</td>\n",
              "      <td>...</td>\n",
              "      <td>...</td>\n",
              "      <td>...</td>\n",
              "      <td>...</td>\n",
              "    </tr>\n",
              "    <tr>\n",
              "      <th rowspan=\"5\" valign=\"top\">manual</th>\n",
              "      <th>46380</th>\n",
              "      <td>2015</td>\n",
              "      <td>Subaru</td>\n",
              "      <td>WRX</td>\n",
              "      <td>Premium</td>\n",
              "      <td>sedan</td>\n",
              "      <td>manual</td>\n",
              "      <td>4.8</td>\n",
              "      <td>2193.0</td>\n",
              "      <td>white</td>\n",
              "      <td>black</td>\n",
              "      <td>28200.0</td>\n",
              "      <td>23500.0</td>\n",
              "      <td>Thu Jun 18 2015 06:00:00 GMT-0700 (PDT)</td>\n",
              "    </tr>\n",
              "    <tr>\n",
              "      <th>46475</th>\n",
              "      <td>1996</td>\n",
              "      <td>Subaru</td>\n",
              "      <td>Legacy</td>\n",
              "      <td>Outback</td>\n",
              "      <td>wagon</td>\n",
              "      <td>manual</td>\n",
              "      <td>2.0</td>\n",
              "      <td>141301.0</td>\n",
              "      <td>green</td>\n",
              "      <td>gray</td>\n",
              "      <td>825.0</td>\n",
              "      <td>800.0</td>\n",
              "      <td>Thu Jan 15 2015 01:35:00 GMT-0800 (PST)</td>\n",
              "    </tr>\n",
              "    <tr>\n",
              "      <th>46479</th>\n",
              "      <td>2012</td>\n",
              "      <td>Infiniti</td>\n",
              "      <td>G Coupe</td>\n",
              "      <td>G37</td>\n",
              "      <td>g coupe</td>\n",
              "      <td>manual</td>\n",
              "      <td>3.9</td>\n",
              "      <td>30016.0</td>\n",
              "      <td>white</td>\n",
              "      <td>black</td>\n",
              "      <td>22700.0</td>\n",
              "      <td>23000.0</td>\n",
              "      <td>Thu Feb 26 2015 04:30:00 GMT-0800 (PST)</td>\n",
              "    </tr>\n",
              "    <tr>\n",
              "      <th>46486</th>\n",
              "      <td>2007</td>\n",
              "      <td>Volkswagen</td>\n",
              "      <td>Jetta</td>\n",
              "      <td>Wolfsburg Edition</td>\n",
              "      <td>sedan</td>\n",
              "      <td>manual</td>\n",
              "      <td>2.9</td>\n",
              "      <td>63199.0</td>\n",
              "      <td>black</td>\n",
              "      <td>black</td>\n",
              "      <td>6325.0</td>\n",
              "      <td>6100.0</td>\n",
              "      <td>Wed Dec 31 2014 09:00:00 GMT-0800 (PST)</td>\n",
              "    </tr>\n",
              "    <tr>\n",
              "      <th>46501</th>\n",
              "      <td>2010</td>\n",
              "      <td>Volkswagen</td>\n",
              "      <td>Jetta</td>\n",
              "      <td>TDI</td>\n",
              "      <td>sedan</td>\n",
              "      <td>manual</td>\n",
              "      <td>2.8</td>\n",
              "      <td>108881.0</td>\n",
              "      <td>black</td>\n",
              "      <td>black</td>\n",
              "      <td>7975.0</td>\n",
              "      <td>7200.0</td>\n",
              "      <td>Wed Jun 03 2015 04:30:00 GMT-0700 (PDT)</td>\n",
              "    </tr>\n",
              "  </tbody>\n",
              "</table>\n",
              "<p>46578 rows × 13 columns</p>\n",
              "</div>"
            ],
            "text/plain": [
              "                    year  ...                                 saledate\n",
              "transmission              ...                                         \n",
              "automatic    0      2013  ...  Tue Jun 02 2015 02:30:00 GMT-0700 (PDT)\n",
              "             1      2014  ...  Wed Feb 18 2015 07:15:00 GMT-0800 (PST)\n",
              "             2      2012  ...  Tue Jan 20 2015 01:30:00 GMT-0800 (PST)\n",
              "             3      2002  ...  Wed Mar 04 2015 07:10:00 GMT-0800 (PST)\n",
              "             4      2014  ...  Wed Feb 18 2015 06:45:00 GMT-0800 (PST)\n",
              "...                  ...  ...                                      ...\n",
              "manual       46380  2015  ...  Thu Jun 18 2015 06:00:00 GMT-0700 (PDT)\n",
              "             46475  1996  ...  Thu Jan 15 2015 01:35:00 GMT-0800 (PST)\n",
              "             46479  2012  ...  Thu Feb 26 2015 04:30:00 GMT-0800 (PST)\n",
              "             46486  2007  ...  Wed Dec 31 2014 09:00:00 GMT-0800 (PST)\n",
              "             46501  2010  ...  Wed Jun 03 2015 04:30:00 GMT-0700 (PDT)\n",
              "\n",
              "[46578 rows x 13 columns]"
            ]
          },
          "metadata": {},
          "execution_count": 23
        }
      ],
      "source": [
        "df_na_median = df.groupby('transmission').apply(lambda x: x.fillna(x.median()))\n",
        "df_na_median"
      ]
    },
    {
      "cell_type": "code",
      "source": [
        "automaticValues = df.loc[df.transmission=='automatic']\n",
        "automaticValues['sellingprice']\n"
      ],
      "metadata": {
        "colab": {
          "base_uri": "https://localhost:8080/"
        },
        "id": "SiCkJS-IX3WO",
        "outputId": "01097c13-577d-4421-ce32-9be430a8a521"
      },
      "execution_count": 24,
      "outputs": [
        {
          "output_type": "execute_result",
          "data": {
            "text/plain": [
              "0        10900.0\n",
              "1        29900.0\n",
              "2        24200.0\n",
              "3         3200.0\n",
              "4        22100.0\n",
              "          ...   \n",
              "46573    17000.0\n",
              "46574    21500.0\n",
              "46575    22000.0\n",
              "46576    13800.0\n",
              "46577     9300.0\n",
              "Name: sellingprice, Length: 44928, dtype: float64"
            ]
          },
          "metadata": {},
          "execution_count": 24
        }
      ]
    },
    {
      "cell_type": "code",
      "source": [
        "automaticValues['sellingprice'].mean()"
      ],
      "metadata": {
        "colab": {
          "base_uri": "https://localhost:8080/"
        },
        "id": "zg-J7Ih2doVC",
        "outputId": "7fc41327-48f4-4202-f775-c876e4abed5f"
      },
      "execution_count": 25,
      "outputs": [
        {
          "output_type": "execute_result",
          "data": {
            "text/plain": [
              "13761.075476317665"
            ]
          },
          "metadata": {},
          "execution_count": 25
        }
      ]
    },
    {
      "cell_type": "code",
      "source": [
        "manualValues = df.loc[df.transmission=='manual']\n",
        "manualValues['sellingprice']"
      ],
      "metadata": {
        "colab": {
          "base_uri": "https://localhost:8080/"
        },
        "id": "so2GoL2rdVvz",
        "outputId": "e14eefa0-e4ac-40a6-8ac8-87bda1aaa870"
      },
      "execution_count": 26,
      "outputs": [
        {
          "output_type": "execute_result",
          "data": {
            "text/plain": [
              "35       12900.0\n",
              "36        9200.0\n",
              "50        2800.0\n",
              "57        8700.0\n",
              "100      11400.0\n",
              "          ...   \n",
              "46380    23500.0\n",
              "46475      800.0\n",
              "46479    23000.0\n",
              "46486     6100.0\n",
              "46501     7200.0\n",
              "Name: sellingprice, Length: 1650, dtype: float64"
            ]
          },
          "metadata": {},
          "execution_count": 26
        }
      ]
    },
    {
      "cell_type": "code",
      "source": [
        "manualValues['sellingprice'].mean()"
      ],
      "metadata": {
        "colab": {
          "base_uri": "https://localhost:8080/"
        },
        "id": "AQRhucupdtu1",
        "outputId": "ffe56178-6596-49a6-d738-80d801f3aebe"
      },
      "execution_count": 27,
      "outputs": [
        {
          "output_type": "execute_result",
          "data": {
            "text/plain": [
              "11181.775757575757"
            ]
          },
          "metadata": {},
          "execution_count": 27
        }
      ]
    },
    {
      "cell_type": "markdown",
      "metadata": {
        "id": "HgNMp5GdJYbD"
      },
      "source": [
        "**Answer for Q2**: Automatic cars sell for 13761 on average. On the other hand, manual cars sell for 11181 on average. So, automatic cars sell for a higher price than manual cars."
      ]
    },
    {
      "cell_type": "markdown",
      "metadata": {
        "id": "211GXKMBJYbE"
      },
      "source": [
        "**Q3: Draw a box plot showing the distribution of the selling prices of each car make. Which car makes have the widest distribution of selling price (name two)? Which are the most expensive (name two)?**\n"
      ]
    },
    {
      "cell_type": "markdown",
      "metadata": {
        "id": "QN0HCFL8JYbE"
      },
      "source": [
        "**Visualization**"
      ]
    },
    {
      "cell_type": "code",
      "execution_count": 28,
      "metadata": {
        "colab": {
          "base_uri": "https://localhost:8080/",
          "height": 362
        },
        "id": "ZxGlIUtSJYbF",
        "outputId": "0cd9995d-207b-4e01-e104-95bf60222811"
      },
      "outputs": [
        {
          "output_type": "display_data",
          "data": {
            "image/png": "[encoded data removed]",
            "text/plain": [
              "<Figure size 576x396 with 1 Axes>"
            ]
          },
          "metadata": {}
        }
      ],
      "source": [
        "sns.boxplot(x='sellingprice', y='make', data=df);"
      ]
    },
    {
      "cell_type": "markdown",
      "metadata": {
        "id": "kXXoMbSAJYbF"
      },
      "source": [
        "**Answer for Q3**: Porsche and Jaguar have the widest distribution of selling price. However, Porsche and Plymouth are the most expensive."
      ]
    },
    {
      "cell_type": "markdown",
      "metadata": {
        "id": "MbkssmdXJYbF"
      },
      "source": [
        "**Q4: How correlated is the odometer reading or mileage with the car's sale price? (Hint: plot a line of best fit.)**"
      ]
    },
    {
      "cell_type": "markdown",
      "metadata": {
        "id": "Mz3e1OxJJYbG"
      },
      "source": [
        "**Visualization**"
      ]
    },
    {
      "cell_type": "code",
      "execution_count": 29,
      "metadata": {
        "colab": {
          "base_uri": "https://localhost:8080/",
          "height": 361
        },
        "id": "aogDXsT2JYbH",
        "outputId": "b8533a09-8dda-4448-89e6-b8a4ee1c8225"
      },
      "outputs": [
        {
          "output_type": "display_data",
          "data": {
            "image/png": "[encoded data removed]",
            "text/plain": [
              "<Figure size 576x396 with 1 Axes>"
            ]
          },
          "metadata": {}
        }
      ],
      "source": [
        "sns.regplot(x=\"sellingprice\", y=\"odometer\", data=df.corr());"
      ]
    },
    {
      "cell_type": "code",
      "source": [
        "corr=df.corr()\n",
        "corr['odometer'].sort_values(ascending=False, key=lambda x: x.abs())"
      ],
      "metadata": {
        "colab": {
          "base_uri": "https://localhost:8080/"
        },
        "id": "p7lhHQMc7B3b",
        "outputId": "b950a9b8-fdd6-4c70-8237-0ec540d46d4a"
      },
      "execution_count": 30,
      "outputs": [
        {
          "output_type": "execute_result",
          "data": {
            "text/plain": [
              "odometer        1.000000\n",
              "year           -0.777219\n",
              "mmr            -0.587920\n",
              "sellingprice   -0.580900\n",
              "condition      -0.540371\n",
              "Name: odometer, dtype: float64"
            ]
          },
          "metadata": {},
          "execution_count": 30
        }
      ]
    },
    {
      "cell_type": "markdown",
      "metadata": {
        "id": "dw1v0bv5JYbH"
      },
      "source": [
        "**Answer for Q4**: According to the graph and the dispalyed values, there's no correlation between selling price and odometer.  "
      ]
    },
    {
      "cell_type": "markdown",
      "metadata": {
        "id": "IuOEDOT6JYbI"
      },
      "source": [
        "**Q5: Likewise, how correlated is the car's condition with its sale price? (Hint: plot a line of best fit.)**"
      ]
    },
    {
      "cell_type": "markdown",
      "metadata": {
        "id": "dnvLyHjqJYbJ"
      },
      "source": [
        "**Visualization**"
      ]
    },
    {
      "cell_type": "code",
      "execution_count": 31,
      "metadata": {
        "colab": {
          "base_uri": "https://localhost:8080/",
          "height": 361
        },
        "id": "8gqLqglXJYbJ",
        "outputId": "ef25cb56-fa0d-451a-fe9f-3a08fbbfb080"
      },
      "outputs": [
        {
          "output_type": "display_data",
          "data": {
            "image/png": "[encoded data removed]",
            "text/plain": [
              "<Figure size 576x396 with 1 Axes>"
            ]
          },
          "metadata": {}
        }
      ],
      "source": [
        "sns.regplot(x=\"sellingprice\", y=\"condition\",data=df.corr());"
      ]
    },
    {
      "cell_type": "code",
      "source": [
        "corr['condition'].sort_values(ascending=False, key=lambda x: x.abs())"
      ],
      "metadata": {
        "colab": {
          "base_uri": "https://localhost:8080/"
        },
        "id": "iNANiPd67pRH",
        "outputId": "9f06b527-6d75-4e87-942d-15818c13c34d"
      },
      "execution_count": 32,
      "outputs": [
        {
          "output_type": "execute_result",
          "data": {
            "text/plain": [
              "condition       1.000000\n",
              "year            0.549158\n",
              "odometer       -0.540371\n",
              "sellingprice    0.529141\n",
              "mmr             0.476200\n",
              "Name: condition, dtype: float64"
            ]
          },
          "metadata": {},
          "execution_count": 32
        }
      ]
    },
    {
      "cell_type": "markdown",
      "metadata": {
        "id": "e3LBDP33JYbL"
      },
      "source": [
        "**Answer for Q5**:  According to the graph and the dispalyed values, there is  correlation between them all despite the odometer. "
      ]
    },
    {
      "cell_type": "markdown",
      "metadata": {
        "id": "8t0kpUWTJYbL"
      },
      "source": [
        "**Q6: Are there differences in the average car price due to the car's body type? If so, rank their order and state the most expensive and least expensive car body type.**"
      ]
    },
    {
      "cell_type": "markdown",
      "metadata": {
        "id": "X4TcFOACJYbL"
      },
      "source": [
        "**Visualization**"
      ]
    },
    {
      "cell_type": "code",
      "execution_count": 33,
      "metadata": {
        "colab": {
          "base_uri": "https://localhost:8080/",
          "height": 1000
        },
        "id": "EeBdKreLJYbL",
        "outputId": "a2254af5-0342-4849-d614-fd49d8e2b43c"
      },
      "outputs": [
        {
          "output_type": "execute_result",
          "data": {
            "text/html": [
              "<div>\n",
              "<style scoped>\n",
              "    .dataframe tbody tr th:only-of-type {\n",
              "        vertical-align: middle;\n",
              "    }\n",
              "\n",
              "    .dataframe tbody tr th {\n",
              "        vertical-align: top;\n",
              "    }\n",
              "\n",
              "    .dataframe thead th {\n",
              "        text-align: right;\n",
              "    }\n",
              "</style>\n",
              "<table border=\"1\" class=\"dataframe\">\n",
              "  <thead>\n",
              "    <tr style=\"text-align: right;\">\n",
              "      <th></th>\n",
              "      <th>sellingprice</th>\n",
              "    </tr>\n",
              "    <tr>\n",
              "      <th>body</th>\n",
              "      <th></th>\n",
              "    </tr>\n",
              "  </thead>\n",
              "  <tbody>\n",
              "    <tr>\n",
              "      <th>granturismo convertible</th>\n",
              "      <td>70000.000000</td>\n",
              "    </tr>\n",
              "    <tr>\n",
              "      <th>q60 convertible</th>\n",
              "      <td>36600.000000</td>\n",
              "    </tr>\n",
              "    <tr>\n",
              "      <th>cts-v coupe</th>\n",
              "      <td>36000.000000</td>\n",
              "    </tr>\n",
              "    <tr>\n",
              "      <th>mega cab</th>\n",
              "      <td>28062.500000</td>\n",
              "    </tr>\n",
              "    <tr>\n",
              "      <th>q60 coupe</th>\n",
              "      <td>27700.000000</td>\n",
              "    </tr>\n",
              "    <tr>\n",
              "      <th>crewmax cab</th>\n",
              "      <td>25926.923077</td>\n",
              "    </tr>\n",
              "    <tr>\n",
              "      <th>g convertible</th>\n",
              "      <td>25815.000000</td>\n",
              "    </tr>\n",
              "    <tr>\n",
              "      <th>transit van</th>\n",
              "      <td>25200.000000</td>\n",
              "    </tr>\n",
              "    <tr>\n",
              "      <th>double cab</th>\n",
              "      <td>22918.065693</td>\n",
              "    </tr>\n",
              "    <tr>\n",
              "      <th>supercrew</th>\n",
              "      <td>22340.150000</td>\n",
              "    </tr>\n",
              "    <tr>\n",
              "      <th>g coupe</th>\n",
              "      <td>22281.764706</td>\n",
              "    </tr>\n",
              "    <tr>\n",
              "      <th>promaster cargo van</th>\n",
              "      <td>21850.000000</td>\n",
              "    </tr>\n",
              "    <tr>\n",
              "      <th>crew cab</th>\n",
              "      <td>21690.542229</td>\n",
              "    </tr>\n",
              "    <tr>\n",
              "      <th>g37 convertible</th>\n",
              "      <td>21600.000000</td>\n",
              "    </tr>\n",
              "    <tr>\n",
              "      <th>cts coupe</th>\n",
              "      <td>21255.000000</td>\n",
              "    </tr>\n",
              "    <tr>\n",
              "      <th>g sedan</th>\n",
              "      <td>20057.761506</td>\n",
              "    </tr>\n",
              "    <tr>\n",
              "      <th>beetle convertible</th>\n",
              "      <td>19222.222222</td>\n",
              "    </tr>\n",
              "    <tr>\n",
              "      <th>cts wagon</th>\n",
              "      <td>19000.000000</td>\n",
              "    </tr>\n",
              "    <tr>\n",
              "      <th>e-series van</th>\n",
              "      <td>18875.000000</td>\n",
              "    </tr>\n",
              "    <tr>\n",
              "      <th>tsx sport wagon</th>\n",
              "      <td>17133.333333</td>\n",
              "    </tr>\n",
              "    <tr>\n",
              "      <th>convertible</th>\n",
              "      <td>17132.510337</td>\n",
              "    </tr>\n",
              "    <tr>\n",
              "      <th>regular-cab</th>\n",
              "      <td>17100.000000</td>\n",
              "    </tr>\n",
              "    <tr>\n",
              "      <th>suv</th>\n",
              "      <td>16221.941270</td>\n",
              "    </tr>\n",
              "    <tr>\n",
              "      <th>coupe</th>\n",
              "      <td>15925.785029</td>\n",
              "    </tr>\n",
              "    <tr>\n",
              "      <th>genesis coupe</th>\n",
              "      <td>15775.000000</td>\n",
              "    </tr>\n",
              "    <tr>\n",
              "      <th>quad cab</th>\n",
              "      <td>14318.081761</td>\n",
              "    </tr>\n",
              "    <tr>\n",
              "      <th>van</th>\n",
              "      <td>14109.039157</td>\n",
              "    </tr>\n",
              "    <tr>\n",
              "      <th>access cab</th>\n",
              "      <td>13142.105263</td>\n",
              "    </tr>\n",
              "    <tr>\n",
              "      <th>supercab</th>\n",
              "      <td>13015.935335</td>\n",
              "    </tr>\n",
              "    <tr>\n",
              "      <th>elantra coupe</th>\n",
              "      <td>12500.000000</td>\n",
              "    </tr>\n",
              "    <tr>\n",
              "      <th>king cab</th>\n",
              "      <td>11628.750000</td>\n",
              "    </tr>\n",
              "    <tr>\n",
              "      <th>sedan</th>\n",
              "      <td>11580.043630</td>\n",
              "    </tr>\n",
              "    <tr>\n",
              "      <th>regular cab</th>\n",
              "      <td>11293.045113</td>\n",
              "    </tr>\n",
              "    <tr>\n",
              "      <th>minivan</th>\n",
              "      <td>11292.248515</td>\n",
              "    </tr>\n",
              "    <tr>\n",
              "      <th>extended cab</th>\n",
              "      <td>10425.566751</td>\n",
              "    </tr>\n",
              "    <tr>\n",
              "      <th>hatchback</th>\n",
              "      <td>10320.636123</td>\n",
              "    </tr>\n",
              "    <tr>\n",
              "      <th>wagon</th>\n",
              "      <td>9851.124128</td>\n",
              "    </tr>\n",
              "    <tr>\n",
              "      <th>koup</th>\n",
              "      <td>9429.166667</td>\n",
              "    </tr>\n",
              "    <tr>\n",
              "      <th>cab plus 4</th>\n",
              "      <td>9250.000000</td>\n",
              "    </tr>\n",
              "    <tr>\n",
              "      <th>xtracab</th>\n",
              "      <td>6400.000000</td>\n",
              "    </tr>\n",
              "    <tr>\n",
              "      <th>club cab</th>\n",
              "      <td>5350.000000</td>\n",
              "    </tr>\n",
              "  </tbody>\n",
              "</table>\n",
              "</div>"
            ],
            "text/plain": [
              "                         sellingprice\n",
              "body                                 \n",
              "granturismo convertible  70000.000000\n",
              "q60 convertible          36600.000000\n",
              "cts-v coupe              36000.000000\n",
              "mega cab                 28062.500000\n",
              "q60 coupe                27700.000000\n",
              "crewmax cab              25926.923077\n",
              "g convertible            25815.000000\n",
              "transit van              25200.000000\n",
              "double cab               22918.065693\n",
              "supercrew                22340.150000\n",
              "g coupe                  22281.764706\n",
              "promaster cargo van      21850.000000\n",
              "crew cab                 21690.542229\n",
              "g37 convertible          21600.000000\n",
              "cts coupe                21255.000000\n",
              "g sedan                  20057.761506\n",
              "beetle convertible       19222.222222\n",
              "cts wagon                19000.000000\n",
              "e-series van             18875.000000\n",
              "tsx sport wagon          17133.333333\n",
              "convertible              17132.510337\n",
              "regular-cab              17100.000000\n",
              "suv                      16221.941270\n",
              "coupe                    15925.785029\n",
              "genesis coupe            15775.000000\n",
              "quad cab                 14318.081761\n",
              "van                      14109.039157\n",
              "access cab               13142.105263\n",
              "supercab                 13015.935335\n",
              "elantra coupe            12500.000000\n",
              "king cab                 11628.750000\n",
              "sedan                    11580.043630\n",
              "regular cab              11293.045113\n",
              "minivan                  11292.248515\n",
              "extended cab             10425.566751\n",
              "hatchback                10320.636123\n",
              "wagon                     9851.124128\n",
              "koup                      9429.166667\n",
              "cab plus 4                9250.000000\n",
              "xtracab                   6400.000000\n",
              "club cab                  5350.000000"
            ]
          },
          "metadata": {},
          "execution_count": 33
        }
      ],
      "source": [
        "#group the cars by bodies\n",
        "#get mean of each body\n",
        "#sort by asscending order \n",
        "df[['body', 'sellingprice']].groupby('body').mean().sort_values('sellingprice', ascending=False)"
      ]
    },
    {
      "cell_type": "markdown",
      "metadata": {
        "id": "bsMYzKZ8JYbM"
      },
      "source": [
        "**Answer for Q6**: Yes there is definitely a difference and the most expensive car body type is granturismo convertible ,while the least expensive is club cab"
      ]
    },
    {
      "cell_type": "markdown",
      "metadata": {
        "id": "ZOn22W7rJYbM"
      },
      "source": [
        "## Data Preparation for Modelling\n",
        "\n",
        "_Apply any additional data preparation steps needed before modelling below. Show/output the changes to the dataset._"
      ]
    },
    {
      "cell_type": "code",
      "source": [
        "df3 = df.drop(['trim', 'body', 'color', 'interior', 'saledate', 'mmr'], axis = 1)"
      ],
      "metadata": {
        "id": "I81aAd0S8raR"
      },
      "execution_count": 34,
      "outputs": []
    },
    {
      "cell_type": "code",
      "source": [
        "categorical_coulmns = ['make' , 'model', 'transmission']\n",
        "df_encoded = pd.get_dummies(data=df3, columns=categorical_coulmns, drop_first=True, dtype=\"int8\")\n",
        "\n"
      ],
      "metadata": {
        "id": "IHFT9D6t9EhQ"
      },
      "execution_count": 35,
      "outputs": []
    },
    {
      "cell_type": "code",
      "execution_count": 38,
      "metadata": {
        "id": "9i8EFuDQJYbN"
      },
      "outputs": [],
      "source": [
        "from sklearn.model_selection import train_test_split\n",
        "\n",
        "X = df_encoded.drop('sellingprice', axis=1)\n",
        "y = df_encoded['sellingprice']\n",
        "\n",
        "X_train, X_test, y_train, y_test = train_test_split(X,y,test_size=0.2,random_state=23)\n",
        "\n"
      ]
    },
    {
      "cell_type": "markdown",
      "metadata": {
        "id": "-V6Pn-B4JYbN"
      },
      "source": [
        "## Modelling\n",
        "\n",
        "_Apply the linear regression model below._"
      ]
    },
    {
      "cell_type": "code",
      "execution_count": 39,
      "metadata": {
        "id": "cye6bgQUJYbO"
      },
      "outputs": [],
      "source": [
        "from sklearn.linear_model import LinearRegression\n",
        "\n",
        "lin_reg = LinearRegression()\n",
        "lin_reg.fit(X_train, y_train);\n"
      ]
    },
    {
      "cell_type": "markdown",
      "metadata": {
        "id": "0aob-WL4JYbO"
      },
      "source": [
        "## Model Evaluation & Validation\n",
        "\n",
        "_Evaluate the model you applied and check if it meets the necessary assumptions for the chosen model._"
      ]
    },
    {
      "cell_type": "code",
      "execution_count": 40,
      "metadata": {
        "colab": {
          "base_uri": "https://localhost:8080/"
        },
        "id": "sKxzLuuCJYbP",
        "outputId": "c10600a4-d76f-4cb8-a879-532cc738b402"
      },
      "outputs": [
        {
          "output_type": "execute_result",
          "data": {
            "text/plain": [
              "0.8274594676134531"
            ]
          },
          "metadata": {},
          "execution_count": 40
        }
      ],
      "source": [
        "lin_reg.score(X_test, y_test)\n"
      ]
    },
    {
      "cell_type": "markdown",
      "metadata": {
        "id": "GI_dK2iqJYbP"
      },
      "source": [
        "## Conclusion and Recommendations\n",
        "\n",
        "Comment on the model accuracy and your findings from model evaluation and validation. State the problems (if any) and suggest possible solutions. Would you recommend this model for a used cars dealership that wants to get reliable estimates for used car prices?\n",
        "\n",
        "**Answer**: The accuracy of the model is 82.74% which is great and definitely would recommend this model for a used cars dealership. However, there is some data in the dataset that is not important and increases the dataset size and we neededto drop them to be able to understand the data well."
      ]
    },
    {
      "cell_type": "code",
      "source": [
        "y_pred = lin_reg.predict(X_test)"
      ],
      "metadata": {
        "id": "0X9dNnoe_3wU"
      },
      "execution_count": 41,
      "outputs": []
    },
    {
      "cell_type": "code",
      "source": [
        "# Checking for linearity\n",
        "f = plt.figure(figsize=(14,5))\n",
        "ax = f.add_subplot(121)\n",
        "sns.scatterplot(x=y_test, y=y_pred, ax=ax, color='r')\n",
        "ax.set_title('Check for Linearity:\\n Actual Vs Predicted value')\n",
        "\n",
        "# Checking for residual normality & mean\n",
        "ax = f.add_subplot(122)\n",
        "sns.histplot(x=(y_test - y_pred), ax=ax, color='b', kde=True)\n",
        "ax.axvline((y_test - y_pred).mean(), color='k', linestyle='--')\n",
        "ax.set_title('Check for Residual normality & mean: \\n Residual eror');"
      ],
      "metadata": {
        "colab": {
          "base_uri": "https://localhost:8080/",
          "height": 363
        },
        "id": "aARppG0m_5Br",
        "outputId": "8a0b06e6-6753-4a13-c8eb-2f1bce49e27f"
      },
      "execution_count": 42,
      "outputs": [
        {
          "output_type": "display_data",
          "data": {
            "image/png": "[encoded data removed]",
            "text/plain": [
              "<Figure size 1008x360 with 2 Axes>"
            ]
          },
          "metadata": {}
        }
      ]
    },
    {
      "cell_type": "code",
      "source": [
        "# Check for Multivariate Normality\n",
        "# Quantile-Quantile plot\n",
        "f,ax = plt.subplots(1,2,figsize=(14,6))\n",
        "import scipy as sp\n",
        "_,(_,_,r)= sp.stats.probplot((y_test - y_pred), fit=True, plot=ax[0])\n",
        "ax[0].set_title('Check for Multivariate Normality: \\nQ-Q Plot')\n",
        "\n",
        "#Check for Homoscedasticity\n",
        "sns.scatterplot(x=y_pred, y=(y_test - y_pred), ax=ax[1], color='r') \n",
        "ax[1].set_title('Check for Homoscedasticity: \\nResidual Vs Predicted');"
      ],
      "metadata": {
        "id": "I0S107yCDh57",
        "outputId": "35eef562-2ceb-4f37-8b19-eec2e292f5d3",
        "colab": {
          "base_uri": "https://localhost:8080/",
          "height": 417
        }
      },
      "execution_count": 43,
      "outputs": [
        {
          "output_type": "display_data",
          "data": {
            "image/png": "[encoded data removed]",
            "text/plain": [
              "<Figure size 1008x432 with 2 Axes>"
            ]
          },
          "metadata": {}
        }
      ]
    }
  ],
  "metadata": {
    "interpreter": {
      "hash": "e7370f93d1d0cde622a1f8e1c04877d8463912d04d973331ad4851f04de6915a"
    },
    "kernelspec": {
      "display_name": "Python 3.8.11 64-bit ('base': conda)",
      "language": "python",
      "name": "python3"
    },
    "language_info": {
      "codemirror_mode": {
        "name": "ipython",
        "version": 3
      },
      "file_extension": ".py",
      "mimetype": "text/x-python",
      "name": "python",
      "nbconvert_exporter": "python",
      "pygments_lexer": "ipython3",
      "version": "3.9.7"
    },
    "colab": {
      "name": "Regression_Mini-Project.ipynb",
      "provenance": [],
      "include_colab_link": true
    }
  },
  "nbformat": 4,
  "nbformat_minor": 0
}